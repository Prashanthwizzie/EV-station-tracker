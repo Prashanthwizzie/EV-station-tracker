{
  "nbformat": 4,
  "nbformat_minor": 0,
  "metadata": {
    "colab": {
      "provenance": [],
      "include_colab_link": true
    },
    "kernelspec": {
      "name": "python3",
      "display_name": "Python 3"
    },
    "language_info": {
      "name": "python"
    }
  },
  "cells": [
    {
      "cell_type": "markdown",
      "metadata": {
        "id": "view-in-github",
        "colab_type": "text"
      },
      "source": [
        "<a href=\"https://colab.research.google.com/github/Prashanthwizzie/ML_projects/blob/main/Happy_Birthday_Music.ipynb\" target=\"_parent\"><img src=\"https://colab.research.google.com/assets/colab-badge.svg\" alt=\"Open In Colab\"/></a>"
      ]
    },
    {
      "cell_type": "code",
      "execution_count": 1,
      "metadata": {
        "colab": {
          "base_uri": "https://localhost:8080/"
        },
        "id": "mrz6OwuWWVUf",
        "outputId": "221f9d52-af58-4329-e04a-3323b40836a7"
      },
      "outputs": [
        {
          "output_type": "stream",
          "name": "stdout",
          "text": [
            "Collecting pydub\n",
            "  Downloading pydub-0.25.1-py2.py3-none-any.whl (32 kB)\n",
            "Installing collected packages: pydub\n",
            "Successfully installed pydub-0.25.1\n"
          ]
        }
      ],
      "source": [
        "!pip install pydub"
      ]
    },
    {
      "cell_type": "code",
      "source": [
        "from pydub import AudioSegment\n",
        "from pydub.generators import Sine\n",
        "\n",
        "# Define function to create a sine wave for a note\n",
        "def create_sine_wave(frequency, duration_ms):\n",
        "    return Sine(frequency).to_audio_segment(duration=duration_ms)\n",
        "\n",
        "# Note frequencies for the song\n",
        "notes = {\n",
        "    'C4': 261.63,\n",
        "    'D4': 293.66,\n",
        "    'E4': 329.63,\n",
        "    'F4': 349.23,\n",
        "    'G4': 392.00,\n",
        "    'A4': 440.00,\n",
        "    'B4': 493.88,\n",
        "    'C5': 523.25,\n",
        "    'D5': 587.33,\n",
        "    'E5': 659.25,\n",
        "    'F5': 698.46,\n",
        "    'G5': 783.99\n",
        "}\n",
        "\n",
        "# Happy Birthday melody (simplified)\n",
        "melody = [\n",
        "    ('G4', 500), ('G4', 500), ('A4', 1000), ('G4', 1000), ('C5', 1000), ('B4', 2000),\n",
        "    ('G4', 500), ('G4', 500), ('A4', 1000), ('G4', 1000), ('D5', 1000), ('C5', 2000),\n",
        "    ('G4', 500), ('G4', 500), ('G5', 1000), ('E5', 1000), ('C5', 1000), ('B4', 1000), ('A4', 1000),\n",
        "    ('F5', 500), ('F5', 500), ('E5', 1000), ('C5', 1000), ('D5', 1000), ('C5', 2000)\n",
        "]\n",
        "\n",
        "# Create the song by combining the notes\n",
        "song = AudioSegment.silent(duration=0)\n",
        "for note, duration in melody:\n",
        "    song += create_sine_wave(notes[note], duration)\n",
        "\n",
        "# Path to save the file in Google Drive\n",
        "file_path = \"/content/happy_birthday_song.mp3\"\n",
        "song.export(file_path, format=\"mp3\")\n",
        "\n",
        "print(\"Happy Birthday song has been created and saved to your Google Drive as happy_birthday_song.mp3\")"
      ],
      "metadata": {
        "colab": {
          "base_uri": "https://localhost:8080/"
        },
        "id": "s89V5Y7JWbxZ",
        "outputId": "806af471-1479-45cc-9009-d5f31bd7856c"
      },
      "execution_count": 2,
      "outputs": [
        {
          "output_type": "stream",
          "name": "stdout",
          "text": [
            "Happy Birthday song has been created and saved to your Google Drive as happy_birthday_song.mp3\n"
          ]
        }
      ]
    }
  ]
}